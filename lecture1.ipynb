{
 "cells": [
  {
   "cell_type": "markdown",
   "metadata": {},
   "source": [
    "# Randomized Response with Simmon's unrelated question device\n",
    "\n",
    "You can run this notebook in your browser right now by going here:\n",
    "https://mybinder.org/v2/gh/laats-organization/IDP/master?filepath=lecture1.ipynb"
   ]
  },
  {
   "cell_type": "code",
   "execution_count": 70,
   "metadata": {},
   "outputs": [],
   "source": [
    "import numpy as np"
   ]
  },
  {
   "cell_type": "code",
   "execution_count": 71,
   "metadata": {},
   "outputs": [],
   "source": [
    "def generate_data(p, n):\n",
    "    '''genrate n independent Bernoulli trials each with probability p'''\n",
    "    return np.random.binomial(1, p, n)\n",
    "\n",
    "def randomize_responses(resp, stay_same_p):\n",
    "    '''flip each bit in resp independently with probability 1 - stay_same_p'''\n",
    "    flip = np.random.binomial(1, 1 - stay_same_p, len(resp))\n",
    "    return np.bitwise_xor(resp, flip)\n",
    "\n",
    "def estimate_p(randresp, stay_same_p):\n",
    "    '''estimate original Bernouill trial probability from randomized responses'''\n",
    "    y_mean = np.mean(randresp)\n",
    "    return (stay_same_p - 1 + y_mean)/(2 * stay_same_p - 1)\n",
    "\n",
    "# compute stay same probability for coinflip device\n",
    "simmons_stay_same_p = lambda q : (1 - q) + q/2"
   ]
  },
  {
   "cell_type": "code",
   "execution_count": 72,
   "metadata": {},
   "outputs": [
    {
     "name": "stdout",
     "output_type": "stream",
     "text": [
      "Experiment parameters: n = 2000, p = 0.7, q = 0.7\n",
      "Generated data of length 2000 with average 0.7025\n",
      "Number of flipped responses: 708 (fraction: 0.354, expected fraction: 0.35)\n",
      "Bob estimates p = 0.7025 from 2000 data points.\n",
      "Alice sees 2000 datapoints with average 0.5545\n",
      " from which she estimates p = 0.681666666667\n"
     ]
    }
   ],
   "source": [
    "# Single experiment\n",
    "\n",
    "# parameters, try changing these\n",
    "p = 0.7  # Bernoulli trial parameter to be estimated\n",
    "n = 2000 # data size\n",
    "q = 0.7  # probability of unrelated question \n",
    "\n",
    "# generate data\n",
    "responses = generate_data(p, n)\n",
    "\n",
    "# Show parameters and real data\n",
    "print 'Experiment parameters: n = {}, p = {}, q = {}'.format(n, p, q)\n",
    "print 'Generated data of length {} with average {}'.format(len(responses), \n",
    "                                                     np.mean(responses))\n",
    "# randomize responses\n",
    "randomized = randomize_responses(responses, \n",
    "                                 simmons_stay_same_p(q))\n",
    "# show some randomization effects\n",
    "num_flipped = sum(np.bitwise_xor(responses, randomized))\n",
    "print 'Number of flipped responses: {} (fraction: {}, expected fraction: {})'.format(\n",
    "    num_flipped, float(num_flipped)/n, 1 - simmons_stay_same_p(q))\n",
    "\n",
    "# What Bob sees\n",
    "bobs_p = np.mean(responses)\n",
    "print 'Bob estimates p = {} from {} data points.'.format(bobs_p, len(responses))\n",
    "\n",
    "# What Alice sees\n",
    "print 'Alice sees {} datapoints with average {}'.format(len(randomized), \n",
    "                                                        np.mean(randomized))\n",
    "p_hat = estimate_p(randomized, simmons_stay_same_p(q))\n",
    "print ' from which she estimates p = {}'.format(p_hat)"
   ]
  },
  {
   "cell_type": "code",
   "execution_count": null,
   "metadata": {},
   "outputs": [],
   "source": []
  }
 ],
 "metadata": {
  "kernelspec": {
   "display_name": "Python 2",
   "language": "python",
   "name": "python2"
  },
  "language_info": {
   "codemirror_mode": {
    "name": "ipython",
    "version": 2
   },
   "file_extension": ".py",
   "mimetype": "text/x-python",
   "name": "python",
   "nbconvert_exporter": "python",
   "pygments_lexer": "ipython2",
   "version": "2.7.15"
  }
 },
 "nbformat": 4,
 "nbformat_minor": 2
}
